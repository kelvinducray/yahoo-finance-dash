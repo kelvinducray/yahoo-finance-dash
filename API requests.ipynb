{
 "cells": [
  {
   "cell_type": "code",
   "execution_count": 1,
   "metadata": {},
   "outputs": [],
   "source": [
    "from logging import getLogger\n",
    "import pandas as pd\n",
    "\n",
    "from yahoo_finance_dash.config import get_settings"
   ]
  },
  {
   "cell_type": "code",
   "execution_count": 2,
   "metadata": {},
   "outputs": [],
   "source": [
    "settings = get_settings()\n",
    "\n",
    "logger = getLogger(__name__)"
   ]
  },
  {
   "cell_type": "code",
   "execution_count": 22,
   "metadata": {},
   "outputs": [],
   "source": [
    "from yahoo_finance_dash.data_grabber import get_yf_data_grabber"
   ]
  },
  {
   "cell_type": "code",
   "execution_count": 23,
   "metadata": {},
   "outputs": [],
   "source": [
    "yfdg = get_yf_data_grabber()"
   ]
  },
  {
   "cell_type": "code",
   "execution_count": 26,
   "metadata": {},
   "outputs": [],
   "source": [
    "x = yfdg.spark(['AAPL'])"
   ]
  },
  {
   "cell_type": "code",
   "execution_count": 31,
   "metadata": {},
   "outputs": [
    {
     "data": {
      "text/plain": [
       "'AAPL'"
      ]
     },
     "execution_count": 31,
     "metadata": {},
     "output_type": "execute_result"
    }
   ],
   "source": [
    "x['asx_code'][0]"
   ]
  },
  {
   "cell_type": "code",
   "execution_count": 25,
   "metadata": {},
   "outputs": [
    {
     "name": "stdout",
     "output_type": "stream",
     "text": [
      "   asx_code   timestamp   close\n",
      "0      AAPL  1646836200  162.95\n",
      "1      AAPL  1646922600  158.52\n",
      "2      AAPL  1647009000  154.73\n",
      "3      AAPL  1647264600  150.62\n",
      "4      AAPL  1647351000  155.09\n",
      "5      AAPL  1647437400  159.59\n",
      "6      AAPL  1647523800  160.62\n",
      "7      AAPL  1647610200  163.98\n",
      "8      AAPL  1647869400  165.38\n",
      "9      AAPL  1647955800  168.82\n",
      "10     AAPL  1648042200  170.21\n",
      "11     AAPL  1648128600  174.07\n",
      "12     AAPL  1648215000  174.72\n",
      "13     AAPL  1648474200  175.60\n",
      "14     AAPL  1648560600  178.96\n",
      "15     AAPL  1648647000  177.77\n",
      "16     AAPL  1648733400  174.61\n",
      "17     AAPL  1648819800  174.31\n",
      "18     AAPL  1649079000  178.44\n",
      "19     AAPL  1649165400  175.06\n",
      "20     AAPL  1649251800  171.83\n",
      "21     AAPL  1649338200  172.14\n",
      "22     AAPL  1649424600  170.09\n"
     ]
    }
   ],
   "source": [
    "print(yfdg.spark(['AAPL']))"
   ]
  },
  {
   "cell_type": "code",
   "execution_count": null,
   "metadata": {},
   "outputs": [],
   "source": []
  }
 ],
 "metadata": {
  "interpreter": {
   "hash": "2242f8938ac60b7928fca881ce035da9b90b84fb89808dad9715bef3b5719c9a"
  },
  "kernelspec": {
   "display_name": "Python 3.10.3 ('.venv': poetry)",
   "language": "python",
   "name": "python3"
  },
  "language_info": {
   "codemirror_mode": {
    "name": "ipython",
    "version": 3
   },
   "file_extension": ".py",
   "mimetype": "text/x-python",
   "name": "python",
   "nbconvert_exporter": "python",
   "pygments_lexer": "ipython3",
   "version": "3.10.3"
  },
  "orig_nbformat": 4
 },
 "nbformat": 4,
 "nbformat_minor": 2
}
