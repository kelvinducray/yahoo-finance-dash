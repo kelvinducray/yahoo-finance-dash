{
 "cells": [
  {
   "cell_type": "code",
   "execution_count": 1,
   "metadata": {},
   "outputs": [],
   "source": [
    "import json\n",
    "import requests\n",
    "from requests import ConnectionError\n",
    "from typing import Optional, Any\n",
    "from logging import getLogger\n",
    "import pandas as pd\n",
    "\n",
    "from yahoo_finance_dash.config import get_settings"
   ]
  },
  {
   "cell_type": "code",
   "execution_count": 2,
   "metadata": {},
   "outputs": [],
   "source": [
    "settings = get_settings()\n",
    "\n",
    "logger = getLogger(__name__)"
   ]
  },
  {
   "cell_type": "code",
   "execution_count": 43,
   "metadata": {},
   "outputs": [],
   "source": [
    "class YahooDataGrabber:\n",
    "    def __init__(self, api_key: str) -> None:\n",
    "        self.headers = {\n",
    "            'accept': 'application/json',\n",
    "            'X-API-KEY': api_key,\n",
    "        }\n",
    "\n",
    "    def _fetch_response_dict(self, api_args: str) -> Optional[dict[str, Any]]:\n",
    "        try:\n",
    "            response = json.loads(\n",
    "                requests.get(\n",
    "                    f'https://yfapi.net/v8/finance/{api_args}',\n",
    "                    headers=self.headers,\n",
    "                ).text\n",
    "            )\n",
    "            if response:\n",
    "                # Catch API failures as they come through in JSON format too\n",
    "                if \"message\" in response.keys():\n",
    "                    logger.error(\n",
    "                        f\"Query failed to return any results.\\n\"\n",
    "                        f\"Query used: {api_args}\\n\"\n",
    "                        f\"Message: {response['message']}\"\n",
    "                    )\n",
    "                    return None\n",
    "                \n",
    "                # Successful response\n",
    "                return response\n",
    "\n",
    "            else:\n",
    "                # No response provided by API\n",
    "                logger.error(f\"Query failed to return any results.\\nQuery used: {api_args}\")\n",
    "                return None\n",
    "\n",
    "        except ConnectionError as e:\n",
    "            logger.error(f\"Failed to connect to Yahoo Finance API! {e}\")\n",
    "            return None\n",
    "    \n",
    "    def spark(self, asx_codes: list[str]) -> pd.DataFrame:\n",
    "        api_args = \"spark?interval=1d&range=1mo&symbols=AAPL\"\n",
    "        response = self._fetch_response_dict(api_args)\n",
    "        \n",
    "        if response:\n",
    "            # Iterate through each code, then concatentate\n",
    "            response_dfs = []\n",
    "            for code in asx_codes:\n",
    "                reponse_current = response[code]\n",
    "                response_df = pd.DataFrame(\n",
    "                    {\n",
    "                        \"timestamp\": reponse_current['timestamp'],\n",
    "                        \"close\": reponse_current['close'],\n",
    "                    }\n",
    "                )\n",
    "                response_df.insert(loc=0, column='asx_code', value=code)\n",
    "                response_dfs.append(response_df)\n",
    "            return pd.concat(response_dfs)\n",
    "        else:\n",
    "            return None"
   ]
  },
  {
   "cell_type": "code",
   "execution_count": 44,
   "metadata": {},
   "outputs": [],
   "source": [
    "ydg = YahooDataGrabber(settings.YAHOO_FINANCE_API_KEY)"
   ]
  },
  {
   "cell_type": "code",
   "execution_count": 45,
   "metadata": {},
   "outputs": [
    {
     "data": {
      "text/html": [
       "<div>\n",
       "<style scoped>\n",
       "    .dataframe tbody tr th:only-of-type {\n",
       "        vertical-align: middle;\n",
       "    }\n",
       "\n",
       "    .dataframe tbody tr th {\n",
       "        vertical-align: top;\n",
       "    }\n",
       "\n",
       "    .dataframe thead th {\n",
       "        text-align: right;\n",
       "    }\n",
       "</style>\n",
       "<table border=\"1\" class=\"dataframe\">\n",
       "  <thead>\n",
       "    <tr style=\"text-align: right;\">\n",
       "      <th></th>\n",
       "      <th>asx_code</th>\n",
       "      <th>timestamp</th>\n",
       "      <th>close</th>\n",
       "    </tr>\n",
       "  </thead>\n",
       "  <tbody>\n",
       "    <tr>\n",
       "      <th>0</th>\n",
       "      <td>AAPL</td>\n",
       "      <td>1646836200</td>\n",
       "      <td>162.95</td>\n",
       "    </tr>\n",
       "    <tr>\n",
       "      <th>1</th>\n",
       "      <td>AAPL</td>\n",
       "      <td>1646922600</td>\n",
       "      <td>158.52</td>\n",
       "    </tr>\n",
       "    <tr>\n",
       "      <th>2</th>\n",
       "      <td>AAPL</td>\n",
       "      <td>1647009000</td>\n",
       "      <td>154.73</td>\n",
       "    </tr>\n",
       "    <tr>\n",
       "      <th>3</th>\n",
       "      <td>AAPL</td>\n",
       "      <td>1647264600</td>\n",
       "      <td>150.62</td>\n",
       "    </tr>\n",
       "    <tr>\n",
       "      <th>4</th>\n",
       "      <td>AAPL</td>\n",
       "      <td>1647351000</td>\n",
       "      <td>155.09</td>\n",
       "    </tr>\n",
       "    <tr>\n",
       "      <th>5</th>\n",
       "      <td>AAPL</td>\n",
       "      <td>1647437400</td>\n",
       "      <td>159.59</td>\n",
       "    </tr>\n",
       "    <tr>\n",
       "      <th>6</th>\n",
       "      <td>AAPL</td>\n",
       "      <td>1647523800</td>\n",
       "      <td>160.62</td>\n",
       "    </tr>\n",
       "    <tr>\n",
       "      <th>7</th>\n",
       "      <td>AAPL</td>\n",
       "      <td>1647610200</td>\n",
       "      <td>163.98</td>\n",
       "    </tr>\n",
       "    <tr>\n",
       "      <th>8</th>\n",
       "      <td>AAPL</td>\n",
       "      <td>1647869400</td>\n",
       "      <td>165.38</td>\n",
       "    </tr>\n",
       "    <tr>\n",
       "      <th>9</th>\n",
       "      <td>AAPL</td>\n",
       "      <td>1647955800</td>\n",
       "      <td>168.82</td>\n",
       "    </tr>\n",
       "    <tr>\n",
       "      <th>10</th>\n",
       "      <td>AAPL</td>\n",
       "      <td>1648042200</td>\n",
       "      <td>170.21</td>\n",
       "    </tr>\n",
       "    <tr>\n",
       "      <th>11</th>\n",
       "      <td>AAPL</td>\n",
       "      <td>1648128600</td>\n",
       "      <td>174.07</td>\n",
       "    </tr>\n",
       "    <tr>\n",
       "      <th>12</th>\n",
       "      <td>AAPL</td>\n",
       "      <td>1648215000</td>\n",
       "      <td>174.72</td>\n",
       "    </tr>\n",
       "    <tr>\n",
       "      <th>13</th>\n",
       "      <td>AAPL</td>\n",
       "      <td>1648474200</td>\n",
       "      <td>175.60</td>\n",
       "    </tr>\n",
       "    <tr>\n",
       "      <th>14</th>\n",
       "      <td>AAPL</td>\n",
       "      <td>1648560600</td>\n",
       "      <td>178.96</td>\n",
       "    </tr>\n",
       "    <tr>\n",
       "      <th>15</th>\n",
       "      <td>AAPL</td>\n",
       "      <td>1648647000</td>\n",
       "      <td>177.77</td>\n",
       "    </tr>\n",
       "    <tr>\n",
       "      <th>16</th>\n",
       "      <td>AAPL</td>\n",
       "      <td>1648733400</td>\n",
       "      <td>174.61</td>\n",
       "    </tr>\n",
       "    <tr>\n",
       "      <th>17</th>\n",
       "      <td>AAPL</td>\n",
       "      <td>1648819800</td>\n",
       "      <td>174.31</td>\n",
       "    </tr>\n",
       "    <tr>\n",
       "      <th>18</th>\n",
       "      <td>AAPL</td>\n",
       "      <td>1649079000</td>\n",
       "      <td>178.44</td>\n",
       "    </tr>\n",
       "    <tr>\n",
       "      <th>19</th>\n",
       "      <td>AAPL</td>\n",
       "      <td>1649165400</td>\n",
       "      <td>175.06</td>\n",
       "    </tr>\n",
       "    <tr>\n",
       "      <th>20</th>\n",
       "      <td>AAPL</td>\n",
       "      <td>1649251800</td>\n",
       "      <td>171.83</td>\n",
       "    </tr>\n",
       "    <tr>\n",
       "      <th>21</th>\n",
       "      <td>AAPL</td>\n",
       "      <td>1649338200</td>\n",
       "      <td>172.14</td>\n",
       "    </tr>\n",
       "    <tr>\n",
       "      <th>22</th>\n",
       "      <td>AAPL</td>\n",
       "      <td>1649424600</td>\n",
       "      <td>170.09</td>\n",
       "    </tr>\n",
       "  </tbody>\n",
       "</table>\n",
       "</div>"
      ],
      "text/plain": [
       "   asx_code   timestamp   close\n",
       "0      AAPL  1646836200  162.95\n",
       "1      AAPL  1646922600  158.52\n",
       "2      AAPL  1647009000  154.73\n",
       "3      AAPL  1647264600  150.62\n",
       "4      AAPL  1647351000  155.09\n",
       "5      AAPL  1647437400  159.59\n",
       "6      AAPL  1647523800  160.62\n",
       "7      AAPL  1647610200  163.98\n",
       "8      AAPL  1647869400  165.38\n",
       "9      AAPL  1647955800  168.82\n",
       "10     AAPL  1648042200  170.21\n",
       "11     AAPL  1648128600  174.07\n",
       "12     AAPL  1648215000  174.72\n",
       "13     AAPL  1648474200  175.60\n",
       "14     AAPL  1648560600  178.96\n",
       "15     AAPL  1648647000  177.77\n",
       "16     AAPL  1648733400  174.61\n",
       "17     AAPL  1648819800  174.31\n",
       "18     AAPL  1649079000  178.44\n",
       "19     AAPL  1649165400  175.06\n",
       "20     AAPL  1649251800  171.83\n",
       "21     AAPL  1649338200  172.14\n",
       "22     AAPL  1649424600  170.09"
      ]
     },
     "execution_count": 45,
     "metadata": {},
     "output_type": "execute_result"
    }
   ],
   "source": [
    "ydg.spark(['AAPL'])"
   ]
  },
  {
   "cell_type": "code",
   "execution_count": null,
   "metadata": {},
   "outputs": [],
   "source": []
  },
  {
   "cell_type": "code",
   "execution_count": 29,
   "metadata": {},
   "outputs": [],
   "source": [
    "my_headers = {\n",
    "    'accept': 'application/json',\n",
    "    'X-API-KEY': settings.YAHOO_FINANCE_API_KEY\n",
    "}\n",
    "response = json.loads(\n",
    "    requests.get(\n",
    "        'https://yfapi.net/v8/finance/spark?interval=1d&range=1mo&symbols=AAPL',\n",
    "        headers=my_headers,\n",
    "    ).text\n",
    ")"
   ]
  },
  {
   "cell_type": "code",
   "execution_count": 20,
   "metadata": {},
   "outputs": [
    {
     "data": {
      "text/plain": [
       "dict_keys(['symbol', 'timestamp', 'end', 'start', 'dataGranularity', 'close', 'previousClose', 'chartPreviousClose'])"
      ]
     },
     "execution_count": 20,
     "metadata": {},
     "output_type": "execute_result"
    }
   ],
   "source": [
    "response['AAPL'].keys()"
   ]
  },
  {
   "cell_type": "code",
   "execution_count": 22,
   "metadata": {},
   "outputs": [
    {
     "data": {
      "text/plain": [
       "[1646836200, 1646922600, 1647009000]"
      ]
     },
     "execution_count": 22,
     "metadata": {},
     "output_type": "execute_result"
    }
   ],
   "source": [
    "response['AAPL']['timestamp'][:3]"
   ]
  },
  {
   "cell_type": "code",
   "execution_count": 28,
   "metadata": {},
   "outputs": [
    {
     "name": "stdout",
     "output_type": "stream",
     "text": [
      "[162.95, 158.52, 154.73, 150.62, 155.09, 159.59, 160.62, 163.98, 165.38, 168.82, 170.21, 174.07, 174.72, 175.6, 178.96, 177.77, 174.61, 174.31, 178.44, 175.06, 171.83, 172.14, 170.09]\n"
     ]
    }
   ],
   "source": [
    "print(response['AAPL']['close'])"
   ]
  },
  {
   "cell_type": "code",
   "execution_count": null,
   "metadata": {},
   "outputs": [],
   "source": []
  }
 ],
 "metadata": {
  "interpreter": {
   "hash": "2242f8938ac60b7928fca881ce035da9b90b84fb89808dad9715bef3b5719c9a"
  },
  "kernelspec": {
   "display_name": "Python 3.10.3 ('.venv': poetry)",
   "language": "python",
   "name": "python3"
  },
  "language_info": {
   "codemirror_mode": {
    "name": "ipython",
    "version": 3
   },
   "file_extension": ".py",
   "mimetype": "text/x-python",
   "name": "python",
   "nbconvert_exporter": "python",
   "pygments_lexer": "ipython3",
   "version": "3.10.3"
  },
  "orig_nbformat": 4
 },
 "nbformat": 4,
 "nbformat_minor": 2
}
